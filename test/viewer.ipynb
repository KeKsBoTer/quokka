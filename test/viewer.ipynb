{
 "cells": [
  {
   "cell_type": "code",
   "execution_count": 1,
   "id": "b0b1f4d2-3dac-4473-a67d-be3c1846d3a1",
   "metadata": {},
   "outputs": [],
   "source": [
    "\n",
    "import os\n",
    "os.environ[\"V4DV_URL\"] = \"http://localhost:5500/public\"\n",
    "from v4dv import viewer,felix_cmap_hack,render\n",
    "import numpy as np\n",
    "from matplotlib import pyplot as plt"
   ]
  },
  {
   "cell_type": "code",
   "execution_count": null,
   "id": "c2d0b51b",
   "metadata": {},
   "outputs": [],
   "source": [
    "img = render(data[:,0].astype(np.float32), plt.get_cmap(\"prism\"),0.)\n",
    "plt.imshow(img)"
   ]
  },
  {
   "cell_type": "code",
   "execution_count": null,
   "id": "500cd9c3",
   "metadata": {},
   "outputs": [],
   "source": [
    "frames = []\n",
    "for t in np.linspace(0,1,20):\n",
    "    frames.append(render(data[:,0].astype(np.float32), plt.get_cmap(\"prism\"),t))\n",
    "plt.imshow(img)"
   ]
  }
 ],
 "metadata": {
  "kernelspec": {
   "display_name": "Python 3 (ipykernel)",
   "language": "python",
   "name": "python3"
  },
  "language_info": {
   "codemirror_mode": {
    "name": "ipython",
    "version": 3
   },
   "file_extension": ".py",
   "mimetype": "text/x-python",
   "name": "python",
   "nbconvert_exporter": "python",
   "pygments_lexer": "ipython3",
   "version": "3.11.8"
  }
 },
 "nbformat": 4,
 "nbformat_minor": 5
}
